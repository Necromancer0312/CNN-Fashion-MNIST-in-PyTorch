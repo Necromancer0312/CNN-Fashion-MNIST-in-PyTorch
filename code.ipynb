{
 "cells": [
  {
   "cell_type": "code",
   "execution_count": 1,
   "metadata": {},
   "outputs": [],
   "source": [
    "import numpy as np\n",
    "import pandas as pd\n",
    "import torch\n",
    "import torch.nn as nn\n",
    "import torchvision\n",
    "import torchvision.transforms as transforms\n",
    "import matplotlib.pyplot as plt\n",
    "from tqdm.notebook import tqdm                   #new GUI version for epoch progress bar\n",
    "# from tqdm import tqdm                          #old GUI version for epoch progress bar"
   ]
  },
  {
   "cell_type": "code",
   "execution_count": 2,
   "metadata": {},
   "outputs": [],
   "source": [
    "torch.cuda.empty_cache()"
   ]
  },
  {
   "cell_type": "code",
   "execution_count": 3,
   "metadata": {},
   "outputs": [],
   "source": [
    "train_dataset = torchvision.datasets.FashionMNIST(root = '.', train  =True, transform = transforms.ToTensor(), download = True)\n",
    "test_dataset = torchvision.datasets.FashionMNIST(root = '.', train = False, transform = transforms.ToTensor(), download = True)\n",
    "train_loader = torch.utils.data.DataLoader(dataset = train_dataset, batch_size = 128, shuffle = True)\n",
    "test_loader = torch.utils.data.DataLoader(dataset = test_dataset, batch_size = 128, shuffle = False)"
   ]
  },
  {
   "cell_type": "code",
   "execution_count": 4,
   "metadata": {},
   "outputs": [
    {
     "data": {
      "text/plain": [
       "tensor(255, dtype=torch.uint8)"
      ]
     },
     "execution_count": 4,
     "metadata": {},
     "output_type": "execute_result"
    }
   ],
   "source": [
    "train_dataset.data.max()"
   ]
  },
  {
   "cell_type": "code",
   "execution_count": 5,
   "metadata": {},
   "outputs": [
    {
     "data": {
      "text/plain": [
       "torch.Size([60000, 28, 28])"
      ]
     },
     "execution_count": 5,
     "metadata": {},
     "output_type": "execute_result"
    }
   ],
   "source": [
    "train_dataset.data.shape"
   ]
  },
  {
   "cell_type": "code",
   "execution_count": 6,
   "metadata": {},
   "outputs": [
    {
     "data": {
      "text/plain": [
       "tensor([9, 0, 0,  ..., 3, 0, 5])"
      ]
     },
     "execution_count": 6,
     "metadata": {},
     "output_type": "execute_result"
    }
   ],
   "source": [
    "train_dataset.targets"
   ]
  },
  {
   "cell_type": "code",
   "execution_count": 7,
   "metadata": {},
   "outputs": [
    {
     "name": "stdout",
     "output_type": "stream",
     "text": [
      "10\n"
     ]
    }
   ],
   "source": [
    "num_classes = len(set(train_dataset.targets.numpy()))\n",
    "print(num_classes)"
   ]
  },
  {
   "cell_type": "code",
   "execution_count": 8,
   "metadata": {},
   "outputs": [
    {
     "name": "stdout",
     "output_type": "stream",
     "text": [
      "tensor([[[[0.0000, 0.0000, 0.0000, 0.0000, 0.0000, 0.0000, 0.0000, 0.0000,\n",
      "           0.0353, 0.5333, 0.5765, 0.0000, 0.0000, 0.0000, 0.0000, 0.0000,\n",
      "           0.0000, 0.0000, 0.4510, 0.5843, 0.0980, 0.0000, 0.0000, 0.0000,\n",
      "           0.0000, 0.0000, 0.0000, 0.0000],\n",
      "          [0.0000, 0.0000, 0.0000, 0.0000, 0.0000, 0.0000, 0.0000, 0.2235,\n",
      "           0.5686, 0.6157, 0.7333, 0.6235, 0.1490, 0.0588, 0.0627, 0.0941,\n",
      "           0.1922, 0.5529, 0.7333, 0.6118, 0.5412, 0.3569, 0.0000, 0.0000,\n",
      "           0.0000, 0.0000, 0.0000, 0.0000],\n",
      "          [0.0000, 0.0000, 0.0000, 0.0000, 0.0000, 0.0000, 0.0000, 0.6784,\n",
      "           0.5294, 0.5490, 0.6510, 0.6784, 0.1020, 0.0000, 0.1490, 0.0196,\n",
      "           0.4078, 0.7020, 0.5961, 0.4941, 0.4510, 0.7098, 0.1725, 0.0000,\n",
      "           0.0000, 0.0000, 0.0000, 0.0000],\n",
      "          [0.0000, 0.0000, 0.0000, 0.0000, 0.0000, 0.0000, 0.1843, 0.6118,\n",
      "           0.5216, 0.5412, 0.6000, 0.6627, 0.5725, 0.0000, 0.0000, 0.2745,\n",
      "           0.6196, 0.5843, 0.4627, 0.4745, 0.4235, 0.5529, 0.5647, 0.0000,\n",
      "           0.0000, 0.0000, 0.0000, 0.0000],\n",
      "          [0.0000, 0.0000, 0.0000, 0.0000, 0.0000, 0.0000, 0.4078, 0.6353,\n",
      "           0.5804, 0.5255, 0.4863, 0.4941, 0.6471, 0.7882, 0.7608, 0.7333,\n",
      "           0.4902, 0.4471, 0.4745, 0.5216, 0.5804, 0.5529, 0.7686, 0.0000,\n",
      "           0.0000, 0.0000, 0.0000, 0.0000],\n",
      "          [0.0000, 0.0000, 0.0000, 0.0000, 0.0000, 0.0000, 0.6039, 0.6471,\n",
      "           0.6510, 0.6157, 0.5020, 0.4706, 0.3882, 0.4314, 0.4549, 0.3647,\n",
      "           0.4353, 0.4588, 0.5098, 0.6941, 0.6667, 0.5294, 0.7882, 0.1647,\n",
      "           0.0000, 0.0000, 0.0000, 0.0000],\n",
      "          [0.0000, 0.0000, 0.0000, 0.0000, 0.0000, 0.0000, 0.7294, 0.6157,\n",
      "           0.6667, 0.7059, 0.5176, 0.4196, 0.4039, 0.3961, 0.4039, 0.4275,\n",
      "           0.3882, 0.3725, 0.5569, 0.7098, 0.6667, 0.4392, 0.7882, 0.3333,\n",
      "           0.0000, 0.0000, 0.0000, 0.0000],\n",
      "          [0.0000, 0.0000, 0.0000, 0.0000, 0.0000, 0.0000, 0.7686, 0.6039,\n",
      "           0.6627, 0.7255, 0.5490, 0.4314, 0.4314, 0.4392, 0.4392, 0.4471,\n",
      "           0.4275, 0.4314, 0.6118, 0.7412, 0.6627, 0.4980, 0.8471, 0.4000,\n",
      "           0.0000, 0.0000, 0.0000, 0.0000],\n",
      "          [0.0000, 0.0000, 0.0000, 0.0000, 0.0000, 0.0824, 0.7686, 0.6392,\n",
      "           0.7255, 0.6863, 0.6941, 0.5451, 0.4667, 0.4784, 0.4667, 0.4863,\n",
      "           0.5059, 0.5529, 0.7137, 0.7333, 0.6471, 0.7294, 0.6078, 0.5098,\n",
      "           0.0000, 0.0000, 0.0000, 0.0000],\n",
      "          [0.0000, 0.0000, 0.0000, 0.0000, 0.0000, 0.2431, 0.7294, 0.5020,\n",
      "           0.7765, 0.6902, 0.7176, 0.5412, 0.4745, 0.4745, 0.4745, 0.4745,\n",
      "           0.4941, 0.5608, 0.6941, 0.7255, 0.6745, 0.7137, 0.4471, 0.5608,\n",
      "           0.0000, 0.0000, 0.0000, 0.0000],\n",
      "          [0.0000, 0.0000, 0.0000, 0.0000, 0.0000, 0.3882, 0.7529, 0.5059,\n",
      "           0.7765, 0.7020, 0.6863, 0.5725, 0.4980, 0.4784, 0.4784, 0.4745,\n",
      "           0.4706, 0.5255, 0.6863, 0.7059, 0.7373, 0.7059, 0.4235, 0.6431,\n",
      "           0.0000, 0.0000, 0.0000, 0.0000],\n",
      "          [0.0000, 0.0000, 0.0000, 0.0000, 0.0000, 0.3137, 0.5961, 0.6706,\n",
      "           0.8078, 0.7098, 0.6941, 0.6314, 0.5294, 0.5020, 0.5216, 0.5098,\n",
      "           0.5255, 0.5686, 0.6863, 0.7255, 0.7882, 0.7608, 0.5882, 0.6941,\n",
      "           0.0000, 0.0000, 0.0000, 0.0000],\n",
      "          [0.0000, 0.0000, 0.0000, 0.0000, 0.0000, 0.3490, 0.5373, 0.6353,\n",
      "           0.8039, 0.7255, 0.6980, 0.6353, 0.5608, 0.4863, 0.5294, 0.5176,\n",
      "           0.5176, 0.6000, 0.6784, 0.7647, 0.8000, 0.7765, 0.4235, 0.6235,\n",
      "           0.0000, 0.0000, 0.0000, 0.0000],\n",
      "          [0.0000, 0.0000, 0.0000, 0.0000, 0.0000, 0.3765, 0.5255, 0.6431,\n",
      "           0.7804, 0.7098, 0.7137, 0.6471, 0.5490, 0.5020, 0.4941, 0.5255,\n",
      "           0.5569, 0.5922, 0.6627, 0.7451, 0.8157, 0.7333, 0.4549, 0.6745,\n",
      "           0.0000, 0.0000, 0.0000, 0.0000],\n",
      "          [0.0000, 0.0000, 0.0000, 0.0000, 0.0000, 0.4549, 0.5020, 0.6588,\n",
      "           0.7922, 0.7373, 0.7098, 0.6471, 0.5529, 0.5216, 0.5020, 0.5294,\n",
      "           0.5333, 0.5961, 0.6745, 0.7373, 0.8196, 0.6902, 0.4667, 0.6549,\n",
      "           0.0000, 0.0000, 0.0000, 0.0000],\n",
      "          [0.0000, 0.0000, 0.0000, 0.0000, 0.0000, 0.4941, 0.5098, 0.6745,\n",
      "           0.8078, 0.7569, 0.6824, 0.6196, 0.5725, 0.5216, 0.5098, 0.5843,\n",
      "           0.5333, 0.5882, 0.6745, 0.7255, 0.8471, 0.6902, 0.5216, 0.6824,\n",
      "           0.0000, 0.0000, 0.0000, 0.0000],\n",
      "          [0.0000, 0.0000, 0.0000, 0.0000, 0.0000, 0.5294, 0.5216, 0.6745,\n",
      "           0.7843, 0.7373, 0.6863, 0.6000, 0.5647, 0.5098, 0.5333, 0.5804,\n",
      "           0.5333, 0.5804, 0.6667, 0.7137, 0.8784, 0.7137, 0.5098, 0.6824,\n",
      "           0.0000, 0.0000, 0.0000, 0.0000],\n",
      "          [0.0000, 0.0000, 0.0000, 0.0000, 0.0000, 0.5373, 0.5412, 0.6510,\n",
      "           0.7529, 0.7647, 0.6627, 0.6314, 0.5922, 0.5216, 0.5529, 0.5882,\n",
      "           0.5569, 0.5569, 0.6784, 0.7176, 0.7882, 0.6078, 0.5373, 0.6667,\n",
      "           0.0000, 0.0000, 0.0000, 0.0000],\n",
      "          [0.0000, 0.0000, 0.0000, 0.0000, 0.0000, 0.5686, 0.5490, 0.6431,\n",
      "           0.6745, 0.8118, 0.6627, 0.6314, 0.6235, 0.5451, 0.5725, 0.6157,\n",
      "           0.6039, 0.5529, 0.6902, 0.7529, 0.6824, 0.4745, 0.6078, 0.6392,\n",
      "           0.0000, 0.0000, 0.0000, 0.0000],\n",
      "          [0.0000, 0.0000, 0.0000, 0.0000, 0.0000, 0.5373, 0.5922, 0.5569,\n",
      "           0.3686, 0.8745, 0.6196, 0.6784, 0.6431, 0.5529, 0.6000, 0.6275,\n",
      "           0.6431, 0.5647, 0.6784, 0.7804, 0.7059, 0.5137, 0.5882, 0.6275,\n",
      "           0.0000, 0.0000, 0.0000, 0.0000],\n",
      "          [0.0000, 0.0000, 0.0000, 0.0000, 0.0000, 0.5608, 0.6863, 0.5137,\n",
      "           0.3137, 0.9098, 0.6235, 0.7098, 0.6784, 0.5961, 0.6235, 0.6471,\n",
      "           0.6588, 0.6039, 0.6706, 0.8000, 0.5961, 0.4588, 0.5882, 0.6196,\n",
      "           0.0000, 0.0000, 0.0000, 0.0000],\n",
      "          [0.0000, 0.0000, 0.0000, 0.0000, 0.0000, 0.5608, 0.7137, 0.4941,\n",
      "           0.4980, 0.7922, 0.6314, 0.6706, 0.6549, 0.6078, 0.6078, 0.6314,\n",
      "           0.6392, 0.6196, 0.6627, 0.7412, 0.6706, 0.5451, 0.5804, 0.5922,\n",
      "           0.0000, 0.0000, 0.0000, 0.0000],\n",
      "          [0.0000, 0.0000, 0.0000, 0.0000, 0.0000, 0.5843, 0.7333, 0.4902,\n",
      "           0.5608, 0.8157, 0.7137, 0.7647, 0.7686, 0.7412, 0.7451, 0.7373,\n",
      "           0.7451, 0.7451, 0.7608, 0.7569, 0.7882, 0.6588, 0.5804, 0.6039,\n",
      "           0.0000, 0.0000, 0.0000, 0.0000],\n",
      "          [0.0000, 0.0000, 0.0000, 0.0000, 0.0000, 0.6784, 0.6706, 0.5137,\n",
      "           0.2118, 1.0000, 0.6157, 0.4784, 0.3765, 0.2824, 0.2510, 0.2902,\n",
      "           0.3686, 0.4941, 0.6314, 0.9882, 0.4980, 0.4510, 0.6784, 0.6000,\n",
      "           0.0000, 0.0000, 0.0000, 0.0000],\n",
      "          [0.0000, 0.0000, 0.0000, 0.0000, 0.0000, 0.6863, 0.6353, 0.5961,\n",
      "           0.0000, 0.0000, 0.0000, 0.0000, 0.0000, 0.0000, 0.0000, 0.0000,\n",
      "           0.0000, 0.0000, 0.0000, 0.0000, 0.0000, 0.5961, 0.6588, 0.5961,\n",
      "           0.0000, 0.0000, 0.0000, 0.0000],\n",
      "          [0.0000, 0.0000, 0.0000, 0.0000, 0.0000, 0.6745, 0.6118, 0.5569,\n",
      "           0.0000, 0.0000, 0.0000, 0.0000, 0.0039, 0.0039, 0.0078, 0.0078,\n",
      "           0.0078, 0.0000, 0.0000, 0.0000, 0.0000, 0.6039, 0.6510, 0.5882,\n",
      "           0.0000, 0.0000, 0.0000, 0.0000],\n",
      "          [0.0000, 0.0000, 0.0000, 0.0000, 0.0000, 0.7451, 0.7961, 0.6902,\n",
      "           0.0000, 0.0078, 0.0039, 0.0000, 0.0000, 0.0000, 0.0000, 0.0000,\n",
      "           0.0000, 0.0000, 0.0000, 0.0118, 0.0000, 0.6314, 0.8157, 0.6431,\n",
      "           0.0000, 0.0000, 0.0000, 0.0000],\n",
      "          [0.0000, 0.0000, 0.0000, 0.0000, 0.0000, 0.1647, 0.3843, 0.0980,\n",
      "           0.0000, 0.0000, 0.0000, 0.0000, 0.0000, 0.0000, 0.0000, 0.0000,\n",
      "           0.0000, 0.0000, 0.0000, 0.0000, 0.0000, 0.1333, 0.4078, 0.1255,\n",
      "           0.0000, 0.0000, 0.0000, 0.0000]]]])\n",
      "torch.Size([1, 1, 28, 28])\n",
      "torch.Size([1])\n"
     ]
    }
   ],
   "source": [
    "tmp_loader = torch.utils.data.DataLoader(dataset = train_dataset, batch_size = 1, shuffle = True)\n",
    "\n",
    "for inputs, targets in tmp_loader:\n",
    "    print(inputs)\n",
    "    print(inputs.shape)\n",
    "    print(targets.shape)\n",
    "    break"
   ]
  },
  {
   "cell_type": "code",
   "execution_count": 9,
   "metadata": {},
   "outputs": [],
   "source": [
    "class CNN(nn.Module):\n",
    "    def __init__(self, in_channels, num_classes):\n",
    "        super(CNN, self).__init__()\n",
    "        self.conv_layers = nn.Sequential(\n",
    "            nn.Conv2d(in_channels, 32, kernel_size = 3, stride = 2),\n",
    "            nn.ReLU(),\n",
    "            nn.Conv2d(32, 64, kernel_size = 3, stride = 2),\n",
    "            nn.ReLU(),\n",
    "            nn.Conv2d(64, 128, kernel_size = 3, stride = 2),\n",
    "            nn.ReLU()\n",
    "        )\n",
    "        self.dense_layers = nn.Sequential(\n",
    "            nn.Dropout(0.2),\n",
    "            nn.Linear(128 * 2 * 2, 512),\n",
    "            nn.ReLU(),\n",
    "            nn.Dropout(0.2),\n",
    "            nn.Linear(512, num_classes)\n",
    "        )\n",
    "    \n",
    "    def forward(self, x):\n",
    "        out = self.conv_layers(x)\n",
    "        out = out.view(out.size(0), -1)\n",
    "        out = self.dense_layers(out)\n",
    "        return out"
   ]
  },
  {
   "cell_type": "code",
   "execution_count": 10,
   "metadata": {},
   "outputs": [],
   "source": [
    "in_channels = 1\n",
    "model = CNN(in_channels = in_channels, num_classes = num_classes)"
   ]
  },
  {
   "cell_type": "code",
   "execution_count": 11,
   "metadata": {},
   "outputs": [
    {
     "name": "stdout",
     "output_type": "stream",
     "text": [
      "cuda:0\n"
     ]
    },
    {
     "data": {
      "text/plain": [
       "CNN(\n",
       "  (conv_layers): Sequential(\n",
       "    (0): Conv2d(1, 32, kernel_size=(3, 3), stride=(2, 2))\n",
       "    (1): ReLU()\n",
       "    (2): Conv2d(32, 64, kernel_size=(3, 3), stride=(2, 2))\n",
       "    (3): ReLU()\n",
       "    (4): Conv2d(64, 128, kernel_size=(3, 3), stride=(2, 2))\n",
       "    (5): ReLU()\n",
       "  )\n",
       "  (dense_layers): Sequential(\n",
       "    (0): Dropout(p=0.2, inplace=False)\n",
       "    (1): Linear(in_features=512, out_features=512, bias=True)\n",
       "    (2): ReLU()\n",
       "    (3): Dropout(p=0.2, inplace=False)\n",
       "    (4): Linear(in_features=512, out_features=10, bias=True)\n",
       "  )\n",
       ")"
      ]
     },
     "execution_count": 11,
     "metadata": {},
     "output_type": "execute_result"
    }
   ],
   "source": [
    "device = torch.device(\"cuda:0\" if torch.cuda.is_available() else \"cpu\")\n",
    "print(device)\n",
    "model.to(device)"
   ]
  },
  {
   "cell_type": "code",
   "execution_count": 12,
   "metadata": {},
   "outputs": [
    {
     "name": "stdout",
     "output_type": "stream",
     "text": [
      "==========================================================================================\n",
      "Layer (type:depth-idx)                   Output Shape              Param #\n",
      "==========================================================================================\n",
      "├─Sequential: 1-1                        [-1, 128, 2, 2]           --\n",
      "|    └─Conv2d: 2-1                       [-1, 32, 13, 13]          320\n",
      "|    └─ReLU: 2-2                         [-1, 32, 13, 13]          --\n",
      "|    └─Conv2d: 2-3                       [-1, 64, 6, 6]            18,496\n",
      "|    └─ReLU: 2-4                         [-1, 64, 6, 6]            --\n",
      "|    └─Conv2d: 2-5                       [-1, 128, 2, 2]           73,856\n",
      "|    └─ReLU: 2-6                         [-1, 128, 2, 2]           --\n",
      "├─Sequential: 1-2                        [-1, 10]                  --\n",
      "|    └─Dropout: 2-7                      [-1, 512]                 --\n",
      "|    └─Linear: 2-8                       [-1, 512]                 262,656\n",
      "|    └─ReLU: 2-9                         [-1, 512]                 --\n",
      "|    └─Dropout: 2-10                     [-1, 512]                 --\n",
      "|    └─Linear: 2-11                      [-1, 10]                  5,130\n",
      "==========================================================================================\n",
      "Total params: 360,458\n",
      "Trainable params: 360,458\n",
      "Non-trainable params: 0\n",
      "Total mult-adds (M): 1.63\n",
      "==========================================================================================\n",
      "Input size (MB): 0.00\n",
      "Forward/backward pass size (MB): 0.07\n",
      "Params size (MB): 1.38\n",
      "Estimated Total Size (MB): 1.44\n",
      "==========================================================================================\n"
     ]
    },
    {
     "data": {
      "text/plain": [
       "==========================================================================================\n",
       "Layer (type:depth-idx)                   Output Shape              Param #\n",
       "==========================================================================================\n",
       "├─Sequential: 1-1                        [-1, 128, 2, 2]           --\n",
       "|    └─Conv2d: 2-1                       [-1, 32, 13, 13]          320\n",
       "|    └─ReLU: 2-2                         [-1, 32, 13, 13]          --\n",
       "|    └─Conv2d: 2-3                       [-1, 64, 6, 6]            18,496\n",
       "|    └─ReLU: 2-4                         [-1, 64, 6, 6]            --\n",
       "|    └─Conv2d: 2-5                       [-1, 128, 2, 2]           73,856\n",
       "|    └─ReLU: 2-6                         [-1, 128, 2, 2]           --\n",
       "├─Sequential: 1-2                        [-1, 10]                  --\n",
       "|    └─Dropout: 2-7                      [-1, 512]                 --\n",
       "|    └─Linear: 2-8                       [-1, 512]                 262,656\n",
       "|    └─ReLU: 2-9                         [-1, 512]                 --\n",
       "|    └─Dropout: 2-10                     [-1, 512]                 --\n",
       "|    └─Linear: 2-11                      [-1, 10]                  5,130\n",
       "==========================================================================================\n",
       "Total params: 360,458\n",
       "Trainable params: 360,458\n",
       "Non-trainable params: 0\n",
       "Total mult-adds (M): 1.63\n",
       "==========================================================================================\n",
       "Input size (MB): 0.00\n",
       "Forward/backward pass size (MB): 0.07\n",
       "Params size (MB): 1.38\n",
       "Estimated Total Size (MB): 1.44\n",
       "=========================================================================================="
      ]
     },
     "execution_count": 12,
     "metadata": {},
     "output_type": "execute_result"
    }
   ],
   "source": [
    "from torchsummary import summary\n",
    "summary(model, (1, 28, 28))"
   ]
  },
  {
   "cell_type": "code",
   "execution_count": 13,
   "metadata": {},
   "outputs": [],
   "source": [
    "criterion = nn.CrossEntropyLoss()\n",
    "optimizer = torch.optim.Adam(model.parameters())"
   ]
  },
  {
   "cell_type": "code",
   "execution_count": 14,
   "metadata": {},
   "outputs": [
    {
     "data": {
      "text/plain": [
       "548"
      ]
     },
     "execution_count": 14,
     "metadata": {},
     "output_type": "execute_result"
    }
   ],
   "source": [
    "total_len = (len(train_loader) + len(test_loader))\n",
    "total_len"
   ]
  },
  {
   "cell_type": "code",
   "execution_count": 15,
   "metadata": {},
   "outputs": [
    {
     "data": {
      "application/vnd.jupyter.widget-view+json": {
       "model_id": "0554adc2e04b4542a9c4659b3faedb8b",
       "version_major": 2,
       "version_minor": 0
      },
      "text/plain": [
       "Epoch [  1/15 ] :   0%|          | 0/548 [00:00<?, ?it/s]"
      ]
     },
     "metadata": {},
     "output_type": "display_data"
    },
    {
     "data": {
      "application/vnd.jupyter.widget-view+json": {
       "model_id": "dde8379c1fad4182a9c2c258f401822e",
       "version_major": 2,
       "version_minor": 0
      },
      "text/plain": [
       "Epoch [  2/15 ] :   0%|          | 0/548 [00:00<?, ?it/s]"
      ]
     },
     "metadata": {},
     "output_type": "display_data"
    },
    {
     "data": {
      "application/vnd.jupyter.widget-view+json": {
       "model_id": "3b629514a0ff40e0b052e74ac2ade8e2",
       "version_major": 2,
       "version_minor": 0
      },
      "text/plain": [
       "Epoch [  3/15 ] :   0%|          | 0/548 [00:00<?, ?it/s]"
      ]
     },
     "metadata": {},
     "output_type": "display_data"
    },
    {
     "data": {
      "application/vnd.jupyter.widget-view+json": {
       "model_id": "226ca060831b403a8237bc2eb442ef95",
       "version_major": 2,
       "version_minor": 0
      },
      "text/plain": [
       "Epoch [  4/15 ] :   0%|          | 0/548 [00:00<?, ?it/s]"
      ]
     },
     "metadata": {},
     "output_type": "display_data"
    },
    {
     "data": {
      "application/vnd.jupyter.widget-view+json": {
       "model_id": "386e78c9159941ee95bfbb75a8d2e86e",
       "version_major": 2,
       "version_minor": 0
      },
      "text/plain": [
       "Epoch [  5/15 ] :   0%|          | 0/548 [00:00<?, ?it/s]"
      ]
     },
     "metadata": {},
     "output_type": "display_data"
    },
    {
     "data": {
      "application/vnd.jupyter.widget-view+json": {
       "model_id": "1e635b4fd8664b27b959c7234ef99719",
       "version_major": 2,
       "version_minor": 0
      },
      "text/plain": [
       "Epoch [  6/15 ] :   0%|          | 0/548 [00:00<?, ?it/s]"
      ]
     },
     "metadata": {},
     "output_type": "display_data"
    },
    {
     "data": {
      "application/vnd.jupyter.widget-view+json": {
       "model_id": "874da79aaa864268bcb1f20023763f8d",
       "version_major": 2,
       "version_minor": 0
      },
      "text/plain": [
       "Epoch [  7/15 ] :   0%|          | 0/548 [00:00<?, ?it/s]"
      ]
     },
     "metadata": {},
     "output_type": "display_data"
    },
    {
     "data": {
      "application/vnd.jupyter.widget-view+json": {
       "model_id": "537bc7d2351641b59841209fb8277e66",
       "version_major": 2,
       "version_minor": 0
      },
      "text/plain": [
       "Epoch [  8/15 ] :   0%|          | 0/548 [00:00<?, ?it/s]"
      ]
     },
     "metadata": {},
     "output_type": "display_data"
    },
    {
     "data": {
      "application/vnd.jupyter.widget-view+json": {
       "model_id": "3b1402c033eb432dbe14029642711a30",
       "version_major": 2,
       "version_minor": 0
      },
      "text/plain": [
       "Epoch [  9/15 ] :   0%|          | 0/548 [00:00<?, ?it/s]"
      ]
     },
     "metadata": {},
     "output_type": "display_data"
    },
    {
     "data": {
      "application/vnd.jupyter.widget-view+json": {
       "model_id": "b6d7636424bb443f90bae6da293ffe1c",
       "version_major": 2,
       "version_minor": 0
      },
      "text/plain": [
       "Epoch [ 10/15 ] :   0%|          | 0/548 [00:00<?, ?it/s]"
      ]
     },
     "metadata": {},
     "output_type": "display_data"
    },
    {
     "data": {
      "application/vnd.jupyter.widget-view+json": {
       "model_id": "35d6a4177b6c493dbc019edc60f3e39a",
       "version_major": 2,
       "version_minor": 0
      },
      "text/plain": [
       "Epoch [ 11/15 ] :   0%|          | 0/548 [00:00<?, ?it/s]"
      ]
     },
     "metadata": {},
     "output_type": "display_data"
    },
    {
     "data": {
      "application/vnd.jupyter.widget-view+json": {
       "model_id": "8f26294f53ca4f77a5434893bf841d7c",
       "version_major": 2,
       "version_minor": 0
      },
      "text/plain": [
       "Epoch [ 12/15 ] :   0%|          | 0/548 [00:00<?, ?it/s]"
      ]
     },
     "metadata": {},
     "output_type": "display_data"
    },
    {
     "data": {
      "application/vnd.jupyter.widget-view+json": {
       "model_id": "d5bf082864ea461f95d14a468c28dd1e",
       "version_major": 2,
       "version_minor": 0
      },
      "text/plain": [
       "Epoch [ 13/15 ] :   0%|          | 0/548 [00:00<?, ?it/s]"
      ]
     },
     "metadata": {},
     "output_type": "display_data"
    },
    {
     "data": {
      "application/vnd.jupyter.widget-view+json": {
       "model_id": "47a46aacab9946d899cd4aef943f759f",
       "version_major": 2,
       "version_minor": 0
      },
      "text/plain": [
       "Epoch [ 14/15 ] :   0%|          | 0/548 [00:00<?, ?it/s]"
      ]
     },
     "metadata": {},
     "output_type": "display_data"
    },
    {
     "data": {
      "application/vnd.jupyter.widget-view+json": {
       "model_id": "6683306d081740b48985a60bcbfa3d1c",
       "version_major": 2,
       "version_minor": 0
      },
      "text/plain": [
       "Epoch [ 15/15 ] :   0%|          | 0/548 [00:00<?, ?it/s]"
      ]
     },
     "metadata": {},
     "output_type": "display_data"
    }
   ],
   "source": [
    "n_epochs = 15\n",
    "train_losses = np.zeros(n_epochs)\n",
    "train_accuracies = np.zeros(n_epochs)\n",
    "test_losses = np.zeros(n_epochs)\n",
    "test_accuracies = np.zeros(n_epochs)\n",
    "\n",
    "for epoch in range(n_epochs):\n",
    "    epoch_str = str(epoch + 1).rjust(len(str(n_epochs)), \" \")\n",
    "    with tqdm(total = total_len, desc = f\"Epoch [ {epoch_str}/{n_epochs} ] : \") as pbar:\n",
    "        n_correct = 0\n",
    "        n_total = 0\n",
    "        train_loss = []\n",
    "        for inputs, targets in train_loader:\n",
    "            inputs, targets = inputs.to(device), targets.to(device)\n",
    "\n",
    "            optimizer.zero_grad()\n",
    "\n",
    "            outputs = model(inputs)\n",
    "            _, prediction = torch.max(outputs, 1)\n",
    "            n_correct += (prediction == targets).sum().item()\n",
    "            n_total += targets.shape[0]\n",
    "            loss = criterion(outputs, targets)\n",
    "            train_loss.append(loss.item())\n",
    "\n",
    "            loss.backward()\n",
    "            optimizer.step()\n",
    "            pbar.update(1)\n",
    "\n",
    "        train_loss = np.mean(train_loss)\n",
    "        train_acc_real = n_correct / n_total\n",
    "        train_losses[epoch] = train_loss\n",
    "        train_accuracies[epoch] = train_acc_real\n",
    "\n",
    "        n_correct = 0\n",
    "        n_total = 0\n",
    "        test_loss = []\n",
    "        for inputs, targets in test_loader:\n",
    "            inputs, targets = inputs.to(device), targets.to(device)\n",
    "\n",
    "            outputs_test = model(inputs)\n",
    "            _, prediction_test = torch.max(outputs_test, 1)\n",
    "            n_correct += (prediction_test == targets).sum().item()\n",
    "            n_total += targets.shape[0]\n",
    "\n",
    "            loss_test = criterion(outputs_test, targets)\n",
    "            test_loss.append(loss_test.item())\n",
    "            pbar.update(1)\n",
    "\n",
    "        test_acc_real = n_correct / n_total\n",
    "        test_loss = np.mean(test_loss)\n",
    "        test_losses[epoch] = test_loss\n",
    "        test_accuracies[epoch] = test_acc_real\n",
    "\n",
    "        pbar.set_description(f\"Epoch [ {epoch_str}/{n_epochs} ] \")\n",
    "        pbar.set_postfix({'Train Accuracy' : f'{train_acc_real:.4f}', 'Train Loss' : f'{train_loss:.4f}','Test Accuracy' : f'{test_acc_real:.4f}' ,'Test Loss' : f'{test_loss:.4f}'})"
   ]
  },
  {
   "cell_type": "code",
   "execution_count": 16,
   "metadata": {},
   "outputs": [
    {
     "name": "stdout",
     "output_type": "stream",
     "text": [
      "Train Accuracy : 0.9526, Test Accuracy : 0.9030\n"
     ]
    }
   ],
   "source": [
    "model.eval()\n",
    "n_correct = 0\n",
    "n_total = 0\n",
    "\n",
    "for inputs, targets in train_loader:\n",
    "    inputs, targets = inputs.to(device), targets.to(device)\n",
    "\n",
    "    outputs = model(inputs)\n",
    "    _, predictions = torch.max(outputs, 1)\n",
    "    n_correct += (predictions == targets).sum().item()\n",
    "    n_total += targets.shape[0]\n",
    "\n",
    "train_acc_final = n_correct / n_total\n",
    "\n",
    "n_correct = 0\n",
    "n_total = 0\n",
    "for inputs, targets in test_loader:\n",
    "    inputs, targets = inputs.to(device), targets.to(device)\n",
    "\n",
    "    outputs_test = model(inputs)\n",
    "    _, predictions_test = torch.max(outputs_test, 1)\n",
    "    n_correct += (predictions_test == targets).sum().item()\n",
    "    n_total += targets.shape[0]\n",
    "\n",
    "test_acc_final = n_correct / n_total\n",
    "\n",
    "print(f\"Train Accuracy : {train_acc_final:.4f}, Test Accuracy : {test_acc_final:.4f}\")"
   ]
  },
  {
   "cell_type": "code",
   "execution_count": 17,
   "metadata": {},
   "outputs": [
    {
     "data": {
      "image/png": "[encoded data removed]",
      "text/plain": [
       "<Figure size 640x480 with 1 Axes>"
      ]
     },
     "metadata": {},
     "output_type": "display_data"
    }
   ],
   "source": [
    "plt.plot(train_losses, label = 'Train Loss')\n",
    "plt.plot(test_losses, label = 'Test Loss')\n",
    "plt.legend()\n",
    "plt.show()"
   ]
  },
  {
   "cell_type": "code",
   "execution_count": 18,
   "metadata": {},
   "outputs": [
    {
     "data": {
      "image/png": "[encoded data removed]",
      "text/plain": [
       "<Figure size 640x480 with 1 Axes>"
      ]
     },
     "metadata": {},
     "output_type": "display_data"
    }
   ],
   "source": [
    "plt.plot(train_accuracies, label = 'Train Accuracy')\n",
    "plt.plot(test_accuracies, label = 'Test Accuracy')\n",
    "plt.legend()\n",
    "plt.show()"
   ]
  },
  {
   "cell_type": "code",
   "execution_count": 19,
   "metadata": {},
   "outputs": [],
   "source": [
    "from sklearn.metrics import confusion_matrix\n",
    "import itertools\n",
    "\n",
    "def plot_confusion_matrix(cm, classes,\n",
    "                          normalize=False,\n",
    "                          title='Confusion matrix',\n",
    "                          cmap=plt.cm.Blues):\n",
    "  if normalize:\n",
    "      cm = cm.astype('float') / cm.sum(axis=1)[:, np.newaxis]\n",
    "      print(\"Normalized confusion matrix\")\n",
    "  else:\n",
    "      print('Confusion matrix, without normalization')\n",
    "\n",
    "  print(cm)\n",
    "\n",
    "  plt.imshow(cm, interpolation='nearest', cmap=cmap)\n",
    "  plt.title(title)\n",
    "  plt.colorbar()\n",
    "  tick_marks = np.arange(len(classes))\n",
    "  plt.xticks(tick_marks, classes, rotation=45)\n",
    "  plt.yticks(tick_marks, classes)\n",
    "\n",
    "  fmt = '.2f' if normalize else 'd'\n",
    "  thresh = cm.max() / 2.\n",
    "  for i, j in itertools.product(range(cm.shape[0]), range(cm.shape[1])):\n",
    "      plt.text(j, i, format(cm[i, j], fmt),\n",
    "               horizontalalignment=\"center\",\n",
    "               color=\"white\" if cm[i, j] > thresh else \"black\")\n",
    "\n",
    "  plt.tight_layout()\n",
    "  plt.ylabel('True label')\n",
    "  plt.xlabel('Predicted label')\n",
    "  plt.show()"
   ]
  },
  {
   "cell_type": "code",
   "execution_count": 20,
   "metadata": {},
   "outputs": [
    {
     "name": "stdout",
     "output_type": "stream",
     "text": [
      "Confusion matrix, without normalization\n",
      "[[849   2  30  20   3   1  89   0   6   0]\n",
      " [  0 980   1  13   3   0   1   0   2   0]\n",
      " [  8   0 888  12  46   0  46   0   0   0]\n",
      " [ 16   6  22 902  37   1  15   0   1   0]\n",
      " [  0   1  56  17 866   0  59   0   1   0]\n",
      " [  0   0   0   1   0 967   0  23   0   9]\n",
      " [116   2  73  25 106   0 669   0   9   0]\n",
      " [  0   0   0   0   0   4   0 965   1  30]\n",
      " [  1   3   2   2   4   1   6   3 976   2]\n",
      " [  1   0   0   0   0   8   0  23   0 968]]\n"
     ]
    },
    {
     "data": {
      "image/png": "[encoded data removed]",
      "text/plain": [
       "<Figure size 640x480 with 2 Axes>"
      ]
     },
     "metadata": {},
     "output_type": "display_data"
    }
   ],
   "source": [
    "x_test = test_dataset.data.numpy()\n",
    "y_test = test_dataset.targets.numpy()\n",
    "p_test = np.array([])\n",
    "\n",
    "for inputs, targets in test_loader:\n",
    "    inputs, targets = inputs.to(device), targets.to(device)\n",
    "\n",
    "    outputs_cm = model(inputs)\n",
    "    _, prediction_cm = torch.max(outputs_cm, 1)\n",
    "    p_test = np.concatenate((p_test, prediction_cm.cpu().numpy()))\n",
    "\n",
    "cm = confusion_matrix(y_test, p_test)\n",
    "plot_confusion_matrix(cm, list(range(10)))"
   ]
  },
  {
   "cell_type": "code",
   "execution_count": 21,
   "metadata": {},
   "outputs": [
    {
     "data": {
      "text/plain": [
       "['T-shirt/top',\n",
       " 'Trouser',\n",
       " 'Pullover',\n",
       " 'Dress',\n",
       " 'Coat',\n",
       " 'Sandal',\n",
       " 'Shirt',\n",
       " 'Sneaker',\n",
       " 'Bag',\n",
       " 'Ankle boot']"
      ]
     },
     "execution_count": 21,
     "metadata": {},
     "output_type": "execute_result"
    }
   ],
   "source": [
    "labels = test_dataset.classes\n",
    "labels"
   ]
  },
  {
   "cell_type": "code",
   "execution_count": 22,
   "metadata": {},
   "outputs": [
    {
     "data": {
      "image/png": "[encoded data removed]",
      "text/plain": [
       "<Figure size 640x480 with 1 Axes>"
      ]
     },
     "metadata": {},
     "output_type": "display_data"
    }
   ],
   "source": [
    "p_test = p_test.astype(np.uint8)\n",
    "misclassified_idx = np.where(p_test != y_test)[0]\n",
    "i = np.random.choice(misclassified_idx)\n",
    "plt.imshow(x_test[i].reshape(28, 28), cmap = 'gray')\n",
    "plt.title(\"True label : %s, Predicted label : %s\" % (labels[y_test[i]], labels[p_test[i]]))\n",
    "plt.show()"
   ]
  },
  {
   "cell_type": "code",
   "execution_count": 23,
   "metadata": {},
   "outputs": [
    {
     "data": {
      "image/png": "[encoded data removed]",
      "text/plain": [
       "<Figure size 640x480 with 1 Axes>"
      ]
     },
     "metadata": {},
     "output_type": "display_data"
    }
   ],
   "source": [
    "p_test = p_test.astype(np.uint8)\n",
    "classified_idx = np.where(p_test == y_test)[0]\n",
    "i_right = np.random.choice(classified_idx)\n",
    "plt.imshow(x_test[i_right].reshape(28, 28), cmap = 'gray')\n",
    "plt.title(\"True label : %s, Predicted label : %s\" % (labels[y_test[i_right]], labels[p_test[i_right]]))\n",
    "plt.show()"
   ]
  }
 ],
 "metadata": {
  "kernelspec": {
   "display_name": "Python 3",
   "language": "python",
   "name": "python3"
  },
  "language_info": {
   "codemirror_mode": {
    "name": "ipython",
    "version": 3
   },
   "file_extension": ".py",
   "mimetype": "text/x-python",
   "name": "python",
   "nbconvert_exporter": "python",
   "pygments_lexer": "ipython3",
   "version": "3.12.2"
  }
 },
 "nbformat": 4,
 "nbformat_minor": 2
}
